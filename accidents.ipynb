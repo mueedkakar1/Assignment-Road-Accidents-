{
 "cells": [
  {
   "cell_type": "markdown",
   "metadata": {},
   "source": [
    "# Are Females Really Bad At Driving?"
   ]
  },
  {
   "cell_type": "markdown",
   "metadata": {},
   "source": [
    "**Objectives:**\n",
    "- yes or no explain what factors contribute if any\n",
    "- if yes then how can we improve their driving and if no then why do people have this misconception?"
   ]
  },
  {
   "cell_type": "markdown",
   "metadata": {},
   "source": [
    "--------------"
   ]
  },
  {
   "cell_type": "markdown",
   "metadata": {},
   "source": [
    "## 🧾Description: \n",
    "This data set is collected from Addis Ababa Sub-city police departments for finding out if Females really are bad at driving or is it just a false perception people have. The data set has been prepared from manual records of road traffic accidents of the year 2017-20. All the sensitive information has been excluded during data encoding and finally, It has 32 features and 12316 instances of accidents."
   ]
  },
  {
   "cell_type": "markdown",
   "metadata": {},
   "source": [
    "---------------"
   ]
  },
  {
   "cell_type": "markdown",
   "metadata": {},
   "source": [
    "## 📖MetaData:\n",
    "- **Time** — time of the accident (In 24 hours format)\n",
    "- **Day_of_week** — A day when an accident occurred\n",
    "- **Age_band_of_driver** —The age group of the driver\n",
    "- **Sex_of_driver** — Gender of driver\n",
    "- **Educational_level** — Driver’s highest education level\n",
    "- **Vehicle_driver_relation** — What’s the relation of a driver with the vehicle\n",
    "- **Driving_experience** — How many years of driving experience the driver has\n",
    "- **Type_of_vehicle** — What’s the type of vehicle\n",
    "- **Owner_of_vehicle** — Who’s the owner of the vehicle\n",
    "- **Service_year_of_vehicle** — The last service year of the vehicle\n",
    "- **Defect_of_vehicle** — Is there any defect on the vehicle or not?\n",
    "- **Area_accident_occured** — Locality of an accident site\n",
    "- **Lanes_or_Medians** — Are there any lanes or medians at the accident site?\n",
    "- **Road_allignment** — Road alignment with the terrain of the land\n",
    "- **Types_of_junction** — Type of junction at the accident site\n",
    "- **Road_surface_type** — A surface type of road\n",
    "- **Road_surface_conditions** — What was the condition of the road surface?\n",
    "- **Light_conditions** — Lighting conditions at the site\n",
    "- **Weather_conditions** — Weather situation at the site of an accident\n",
    "- **Type_of_collision** — What is the type of collision\n",
    "- **Number_of_vehicles_involved** — Total number of vehicles involved in an accident\n",
    "- **Number_of_casualties** — Total number of casualties in an accident\n",
    "- **Vehicle_movement** — How the vehicle was moving before the accident occurred\n",
    "- **Casualty_class** — A person who got killed during an accident\n",
    "- **Sex_of_casualty** — What the gender of a person who got killed\n",
    "- **Age_band_of_casualty** — Age group of casualty\n",
    "- **Casualty_severtiy** — How severely the casualty was injured\n",
    "- **Work_of_casualty** — What was the work of the casualty\n",
    "- **Fitness_of_casualty** — Fitness level of casualty\n",
    "- **Pedestrain_movement** — Was there any pedestrian movement on the road?\n",
    "- **Cause_of-accident** — What was the cause of an accident?\n",
    "- **Accident_severity** — How severe an accident was? (Target variable)"
   ]
  },
  {
   "cell_type": "markdown",
   "metadata": {},
   "source": [
    "-----------------"
   ]
  },
  {
   "cell_type": "markdown",
   "metadata": {},
   "source": [
    "**Columns needed for analysis:** \n",
    "Cause_of_accident, Pedestrian_movement, Age_band_of_casualty, Casualty_class, Vehicle_movement, Number_of_casualties, Number_of_vehicles_involved, Type_of_collision, Weather_conditions, Light_conditions, Road_surface_conditions, Road_surface_type, Types_of_junction, Road_allignment, Defect_of_vehicle, Service_year_of_vehicle, Driving_experience,  Vehicle_driver_relation, Educational_level, Sex_of_driver, Age_band_of_driver, Time.\n",
    "\n",
    "_Note_: These are not the final columns, will conclude later in analysis after exploring the data."
   ]
  },
  {
   "cell_type": "code",
   "execution_count": 1,
   "metadata": {},
   "outputs": [],
   "source": [
    "# Import the required libraries and load the data\n",
    "import pandas as pd\n",
    "import numpy as np\n",
    "import matplotlib.pyplot as plt\n",
    "import seaborn as sns\n",
    "from scipy.stats import chi2_contingency\n",
    "import plotly.express as px\n",
    "import plotly as pio\n",
    "import mplcyberpunk as cyb\n",
    "import plotly.graph_objects as go\n",
    "# pio.renderers.default = 'browser'"
   ]
  },
  {
   "cell_type": "code",
   "execution_count": 2,
   "metadata": {},
   "outputs": [
    {
     "data": {
      "text/html": [
       "<div>\n",
       "<style scoped>\n",
       "    .dataframe tbody tr th:only-of-type {\n",
       "        vertical-align: middle;\n",
       "    }\n",
       "\n",
       "    .dataframe tbody tr th {\n",
       "        vertical-align: top;\n",
       "    }\n",
       "\n",
       "    .dataframe thead th {\n",
       "        text-align: right;\n",
       "    }\n",
       "</style>\n",
       "<table border=\"1\" class=\"dataframe\">\n",
       "  <thead>\n",
       "    <tr style=\"text-align: right;\">\n",
       "      <th></th>\n",
       "      <th>Time</th>\n",
       "      <th>Day_of_week</th>\n",
       "      <th>Age_band_of_driver</th>\n",
       "      <th>Sex_of_driver</th>\n",
       "      <th>Educational_level</th>\n",
       "      <th>Vehicle_driver_relation</th>\n",
       "      <th>Driving_experience</th>\n",
       "      <th>Type_of_vehicle</th>\n",
       "      <th>Owner_of_vehicle</th>\n",
       "      <th>Service_year_of_vehicle</th>\n",
       "      <th>...</th>\n",
       "      <th>Vehicle_movement</th>\n",
       "      <th>Casualty_class</th>\n",
       "      <th>Sex_of_casualty</th>\n",
       "      <th>Age_band_of_casualty</th>\n",
       "      <th>Casualty_severity</th>\n",
       "      <th>Work_of_casuality</th>\n",
       "      <th>Fitness_of_casuality</th>\n",
       "      <th>Pedestrian_movement</th>\n",
       "      <th>Cause_of_accident</th>\n",
       "      <th>Accident_severity</th>\n",
       "    </tr>\n",
       "  </thead>\n",
       "  <tbody>\n",
       "    <tr>\n",
       "      <th>0</th>\n",
       "      <td>17:02:00</td>\n",
       "      <td>Monday</td>\n",
       "      <td>18-30</td>\n",
       "      <td>Male</td>\n",
       "      <td>Above high school</td>\n",
       "      <td>Employee</td>\n",
       "      <td>1-2yr</td>\n",
       "      <td>Automobile</td>\n",
       "      <td>Owner</td>\n",
       "      <td>Above 10yr</td>\n",
       "      <td>...</td>\n",
       "      <td>Going straight</td>\n",
       "      <td>na</td>\n",
       "      <td>na</td>\n",
       "      <td>na</td>\n",
       "      <td>na</td>\n",
       "      <td>NaN</td>\n",
       "      <td>NaN</td>\n",
       "      <td>Not a Pedestrian</td>\n",
       "      <td>Moving Backward</td>\n",
       "      <td>Slight Injury</td>\n",
       "    </tr>\n",
       "    <tr>\n",
       "      <th>1</th>\n",
       "      <td>17:02:00</td>\n",
       "      <td>Monday</td>\n",
       "      <td>31-50</td>\n",
       "      <td>Male</td>\n",
       "      <td>Junior high school</td>\n",
       "      <td>Employee</td>\n",
       "      <td>Above 10yr</td>\n",
       "      <td>Public (&gt; 45 seats)</td>\n",
       "      <td>Owner</td>\n",
       "      <td>5-10yrs</td>\n",
       "      <td>...</td>\n",
       "      <td>Going straight</td>\n",
       "      <td>na</td>\n",
       "      <td>na</td>\n",
       "      <td>na</td>\n",
       "      <td>na</td>\n",
       "      <td>NaN</td>\n",
       "      <td>NaN</td>\n",
       "      <td>Not a Pedestrian</td>\n",
       "      <td>Overtaking</td>\n",
       "      <td>Slight Injury</td>\n",
       "    </tr>\n",
       "    <tr>\n",
       "      <th>2</th>\n",
       "      <td>17:02:00</td>\n",
       "      <td>Monday</td>\n",
       "      <td>18-30</td>\n",
       "      <td>Male</td>\n",
       "      <td>Junior high school</td>\n",
       "      <td>Employee</td>\n",
       "      <td>1-2yr</td>\n",
       "      <td>Lorry (41?100Q)</td>\n",
       "      <td>Owner</td>\n",
       "      <td>NaN</td>\n",
       "      <td>...</td>\n",
       "      <td>Going straight</td>\n",
       "      <td>Driver or rider</td>\n",
       "      <td>Male</td>\n",
       "      <td>31-50</td>\n",
       "      <td>3</td>\n",
       "      <td>Driver</td>\n",
       "      <td>NaN</td>\n",
       "      <td>Not a Pedestrian</td>\n",
       "      <td>Changing lane to the left</td>\n",
       "      <td>Serious Injury</td>\n",
       "    </tr>\n",
       "    <tr>\n",
       "      <th>3</th>\n",
       "      <td>1:06:00</td>\n",
       "      <td>Sunday</td>\n",
       "      <td>18-30</td>\n",
       "      <td>Male</td>\n",
       "      <td>Junior high school</td>\n",
       "      <td>Employee</td>\n",
       "      <td>5-10yr</td>\n",
       "      <td>Public (&gt; 45 seats)</td>\n",
       "      <td>Governmental</td>\n",
       "      <td>NaN</td>\n",
       "      <td>...</td>\n",
       "      <td>Going straight</td>\n",
       "      <td>Pedestrian</td>\n",
       "      <td>Female</td>\n",
       "      <td>18-30</td>\n",
       "      <td>3</td>\n",
       "      <td>Driver</td>\n",
       "      <td>Normal</td>\n",
       "      <td>Not a Pedestrian</td>\n",
       "      <td>Changing lane to the right</td>\n",
       "      <td>Slight Injury</td>\n",
       "    </tr>\n",
       "    <tr>\n",
       "      <th>4</th>\n",
       "      <td>1:06:00</td>\n",
       "      <td>Sunday</td>\n",
       "      <td>18-30</td>\n",
       "      <td>Male</td>\n",
       "      <td>Junior high school</td>\n",
       "      <td>Employee</td>\n",
       "      <td>2-5yr</td>\n",
       "      <td>NaN</td>\n",
       "      <td>Owner</td>\n",
       "      <td>5-10yrs</td>\n",
       "      <td>...</td>\n",
       "      <td>Going straight</td>\n",
       "      <td>na</td>\n",
       "      <td>na</td>\n",
       "      <td>na</td>\n",
       "      <td>na</td>\n",
       "      <td>NaN</td>\n",
       "      <td>NaN</td>\n",
       "      <td>Not a Pedestrian</td>\n",
       "      <td>Overtaking</td>\n",
       "      <td>Slight Injury</td>\n",
       "    </tr>\n",
       "  </tbody>\n",
       "</table>\n",
       "<p>5 rows × 32 columns</p>\n",
       "</div>"
      ],
      "text/plain": [
       "       Time Day_of_week Age_band_of_driver Sex_of_driver   Educational_level  \\\n",
       "0  17:02:00      Monday              18-30          Male   Above high school   \n",
       "1  17:02:00      Monday              31-50          Male  Junior high school   \n",
       "2  17:02:00      Monday              18-30          Male  Junior high school   \n",
       "3   1:06:00      Sunday              18-30          Male  Junior high school   \n",
       "4   1:06:00      Sunday              18-30          Male  Junior high school   \n",
       "\n",
       "  Vehicle_driver_relation Driving_experience      Type_of_vehicle  \\\n",
       "0                Employee              1-2yr           Automobile   \n",
       "1                Employee         Above 10yr  Public (> 45 seats)   \n",
       "2                Employee              1-2yr      Lorry (41?100Q)   \n",
       "3                Employee             5-10yr  Public (> 45 seats)   \n",
       "4                Employee              2-5yr                  NaN   \n",
       "\n",
       "  Owner_of_vehicle Service_year_of_vehicle  ... Vehicle_movement  \\\n",
       "0            Owner              Above 10yr  ...   Going straight   \n",
       "1            Owner                 5-10yrs  ...   Going straight   \n",
       "2            Owner                     NaN  ...   Going straight   \n",
       "3     Governmental                     NaN  ...   Going straight   \n",
       "4            Owner                 5-10yrs  ...   Going straight   \n",
       "\n",
       "    Casualty_class Sex_of_casualty Age_band_of_casualty Casualty_severity  \\\n",
       "0               na              na                   na                na   \n",
       "1               na              na                   na                na   \n",
       "2  Driver or rider            Male                31-50                 3   \n",
       "3       Pedestrian          Female                18-30                 3   \n",
       "4               na              na                   na                na   \n",
       "\n",
       "  Work_of_casuality Fitness_of_casuality Pedestrian_movement  \\\n",
       "0               NaN                  NaN    Not a Pedestrian   \n",
       "1               NaN                  NaN    Not a Pedestrian   \n",
       "2            Driver                  NaN    Not a Pedestrian   \n",
       "3            Driver               Normal    Not a Pedestrian   \n",
       "4               NaN                  NaN    Not a Pedestrian   \n",
       "\n",
       "            Cause_of_accident Accident_severity  \n",
       "0             Moving Backward     Slight Injury  \n",
       "1                  Overtaking     Slight Injury  \n",
       "2   Changing lane to the left    Serious Injury  \n",
       "3  Changing lane to the right     Slight Injury  \n",
       "4                  Overtaking     Slight Injury  \n",
       "\n",
       "[5 rows x 32 columns]"
      ]
     },
     "execution_count": 2,
     "metadata": {},
     "output_type": "execute_result"
    }
   ],
   "source": [
    "df = pd.read_csv('RTA Dataset.csv')\n",
    "df.head()"
   ]
  },
  {
   "cell_type": "code",
   "execution_count": 3,
   "metadata": {},
   "outputs": [
    {
     "data": {
      "text/html": [
       "<div>\n",
       "<style scoped>\n",
       "    .dataframe tbody tr th:only-of-type {\n",
       "        vertical-align: middle;\n",
       "    }\n",
       "\n",
       "    .dataframe tbody tr th {\n",
       "        vertical-align: top;\n",
       "    }\n",
       "\n",
       "    .dataframe thead th {\n",
       "        text-align: right;\n",
       "    }\n",
       "</style>\n",
       "<table border=\"1\" class=\"dataframe\">\n",
       "  <thead>\n",
       "    <tr style=\"text-align: right;\">\n",
       "      <th></th>\n",
       "      <th>Time</th>\n",
       "      <th>Light_conditions</th>\n",
       "      <th>Sex_of_driver</th>\n",
       "      <th>Age_band_of_driver</th>\n",
       "      <th>Driving_experience</th>\n",
       "      <th>Educational_level</th>\n",
       "      <th>Cause_of_accident</th>\n",
       "      <th>Vehicle_movement</th>\n",
       "      <th>Vehicle_driver_relation</th>\n",
       "      <th>Pedestrian_movement</th>\n",
       "      <th>...</th>\n",
       "      <th>Number_of_casualties</th>\n",
       "      <th>Number_of_vehicles_involved</th>\n",
       "      <th>Type_of_collision</th>\n",
       "      <th>Weather_conditions</th>\n",
       "      <th>Road_surface_conditions</th>\n",
       "      <th>Road_surface_type</th>\n",
       "      <th>Types_of_Junction</th>\n",
       "      <th>Road_allignment</th>\n",
       "      <th>Defect_of_vehicle</th>\n",
       "      <th>Service_year_of_vehicle</th>\n",
       "    </tr>\n",
       "  </thead>\n",
       "  <tbody>\n",
       "    <tr>\n",
       "      <th>0</th>\n",
       "      <td>17:02:00</td>\n",
       "      <td>Daylight</td>\n",
       "      <td>Male</td>\n",
       "      <td>18-30</td>\n",
       "      <td>1-2yr</td>\n",
       "      <td>Above high school</td>\n",
       "      <td>Moving Backward</td>\n",
       "      <td>Going straight</td>\n",
       "      <td>Employee</td>\n",
       "      <td>Not a Pedestrian</td>\n",
       "      <td>...</td>\n",
       "      <td>2</td>\n",
       "      <td>2</td>\n",
       "      <td>Collision with roadside-parked vehicles</td>\n",
       "      <td>Normal</td>\n",
       "      <td>Dry</td>\n",
       "      <td>Asphalt roads</td>\n",
       "      <td>No junction</td>\n",
       "      <td>Tangent road with flat terrain</td>\n",
       "      <td>No defect</td>\n",
       "      <td>Above 10yr</td>\n",
       "    </tr>\n",
       "    <tr>\n",
       "      <th>1</th>\n",
       "      <td>17:02:00</td>\n",
       "      <td>Daylight</td>\n",
       "      <td>Male</td>\n",
       "      <td>31-50</td>\n",
       "      <td>Above 10yr</td>\n",
       "      <td>Junior high school</td>\n",
       "      <td>Overtaking</td>\n",
       "      <td>Going straight</td>\n",
       "      <td>Employee</td>\n",
       "      <td>Not a Pedestrian</td>\n",
       "      <td>...</td>\n",
       "      <td>2</td>\n",
       "      <td>2</td>\n",
       "      <td>Vehicle with vehicle collision</td>\n",
       "      <td>Normal</td>\n",
       "      <td>Dry</td>\n",
       "      <td>Asphalt roads</td>\n",
       "      <td>No junction</td>\n",
       "      <td>Tangent road with flat terrain</td>\n",
       "      <td>No defect</td>\n",
       "      <td>5-10yrs</td>\n",
       "    </tr>\n",
       "    <tr>\n",
       "      <th>2</th>\n",
       "      <td>17:02:00</td>\n",
       "      <td>Daylight</td>\n",
       "      <td>Male</td>\n",
       "      <td>18-30</td>\n",
       "      <td>1-2yr</td>\n",
       "      <td>Junior high school</td>\n",
       "      <td>Changing lane to the left</td>\n",
       "      <td>Going straight</td>\n",
       "      <td>Employee</td>\n",
       "      <td>Not a Pedestrian</td>\n",
       "      <td>...</td>\n",
       "      <td>2</td>\n",
       "      <td>2</td>\n",
       "      <td>Collision with roadside objects</td>\n",
       "      <td>Normal</td>\n",
       "      <td>Dry</td>\n",
       "      <td>Asphalt roads</td>\n",
       "      <td>No junction</td>\n",
       "      <td>NaN</td>\n",
       "      <td>No defect</td>\n",
       "      <td>NaN</td>\n",
       "    </tr>\n",
       "    <tr>\n",
       "      <th>3</th>\n",
       "      <td>1:06:00</td>\n",
       "      <td>Darkness - lights lit</td>\n",
       "      <td>Male</td>\n",
       "      <td>18-30</td>\n",
       "      <td>5-10yr</td>\n",
       "      <td>Junior high school</td>\n",
       "      <td>Changing lane to the right</td>\n",
       "      <td>Going straight</td>\n",
       "      <td>Employee</td>\n",
       "      <td>Not a Pedestrian</td>\n",
       "      <td>...</td>\n",
       "      <td>2</td>\n",
       "      <td>2</td>\n",
       "      <td>Vehicle with vehicle collision</td>\n",
       "      <td>Normal</td>\n",
       "      <td>Dry</td>\n",
       "      <td>Earth roads</td>\n",
       "      <td>Y Shape</td>\n",
       "      <td>Tangent road with mild grade and flat terrain</td>\n",
       "      <td>No defect</td>\n",
       "      <td>NaN</td>\n",
       "    </tr>\n",
       "    <tr>\n",
       "      <th>4</th>\n",
       "      <td>1:06:00</td>\n",
       "      <td>Darkness - lights lit</td>\n",
       "      <td>Male</td>\n",
       "      <td>18-30</td>\n",
       "      <td>2-5yr</td>\n",
       "      <td>Junior high school</td>\n",
       "      <td>Overtaking</td>\n",
       "      <td>Going straight</td>\n",
       "      <td>Employee</td>\n",
       "      <td>Not a Pedestrian</td>\n",
       "      <td>...</td>\n",
       "      <td>2</td>\n",
       "      <td>2</td>\n",
       "      <td>Vehicle with vehicle collision</td>\n",
       "      <td>Normal</td>\n",
       "      <td>Dry</td>\n",
       "      <td>Asphalt roads</td>\n",
       "      <td>Y Shape</td>\n",
       "      <td>Tangent road with flat terrain</td>\n",
       "      <td>No defect</td>\n",
       "      <td>5-10yrs</td>\n",
       "    </tr>\n",
       "  </tbody>\n",
       "</table>\n",
       "<p>5 rows × 22 columns</p>\n",
       "</div>"
      ],
      "text/plain": [
       "       Time       Light_conditions Sex_of_driver Age_band_of_driver  \\\n",
       "0  17:02:00               Daylight          Male              18-30   \n",
       "1  17:02:00               Daylight          Male              31-50   \n",
       "2  17:02:00               Daylight          Male              18-30   \n",
       "3   1:06:00  Darkness - lights lit          Male              18-30   \n",
       "4   1:06:00  Darkness - lights lit          Male              18-30   \n",
       "\n",
       "  Driving_experience   Educational_level           Cause_of_accident  \\\n",
       "0              1-2yr   Above high school             Moving Backward   \n",
       "1         Above 10yr  Junior high school                  Overtaking   \n",
       "2              1-2yr  Junior high school   Changing lane to the left   \n",
       "3             5-10yr  Junior high school  Changing lane to the right   \n",
       "4              2-5yr  Junior high school                  Overtaking   \n",
       "\n",
       "  Vehicle_movement Vehicle_driver_relation Pedestrian_movement  ...  \\\n",
       "0   Going straight                Employee    Not a Pedestrian  ...   \n",
       "1   Going straight                Employee    Not a Pedestrian  ...   \n",
       "2   Going straight                Employee    Not a Pedestrian  ...   \n",
       "3   Going straight                Employee    Not a Pedestrian  ...   \n",
       "4   Going straight                Employee    Not a Pedestrian  ...   \n",
       "\n",
       "  Number_of_casualties Number_of_vehicles_involved  \\\n",
       "0                    2                           2   \n",
       "1                    2                           2   \n",
       "2                    2                           2   \n",
       "3                    2                           2   \n",
       "4                    2                           2   \n",
       "\n",
       "                         Type_of_collision  Weather_conditions  \\\n",
       "0  Collision with roadside-parked vehicles              Normal   \n",
       "1           Vehicle with vehicle collision              Normal   \n",
       "2          Collision with roadside objects              Normal   \n",
       "3           Vehicle with vehicle collision              Normal   \n",
       "4           Vehicle with vehicle collision              Normal   \n",
       "\n",
       "  Road_surface_conditions Road_surface_type Types_of_Junction  \\\n",
       "0                     Dry     Asphalt roads       No junction   \n",
       "1                     Dry     Asphalt roads       No junction   \n",
       "2                     Dry     Asphalt roads       No junction   \n",
       "3                     Dry       Earth roads           Y Shape   \n",
       "4                     Dry     Asphalt roads           Y Shape   \n",
       "\n",
       "                                 Road_allignment Defect_of_vehicle  \\\n",
       "0                 Tangent road with flat terrain         No defect   \n",
       "1                 Tangent road with flat terrain         No defect   \n",
       "2                                            NaN         No defect   \n",
       "3  Tangent road with mild grade and flat terrain         No defect   \n",
       "4                 Tangent road with flat terrain         No defect   \n",
       "\n",
       "  Service_year_of_vehicle  \n",
       "0              Above 10yr  \n",
       "1                 5-10yrs  \n",
       "2                     NaN  \n",
       "3                     NaN  \n",
       "4                 5-10yrs  \n",
       "\n",
       "[5 rows x 22 columns]"
      ]
     },
     "execution_count": 3,
     "metadata": {},
     "output_type": "execute_result"
    }
   ],
   "source": [
    "df = df[['Time', 'Light_conditions', 'Sex_of_driver','Age_band_of_driver', 'Driving_experience', 'Educational_level', 'Cause_of_accident', 'Vehicle_movement', 'Vehicle_driver_relation', 'Pedestrian_movement', 'Age_band_of_casualty', 'Casualty_class', 'Number_of_casualties', 'Number_of_vehicles_involved', 'Type_of_collision', 'Weather_conditions', 'Road_surface_conditions', 'Road_surface_type', 'Types_of_Junction', 'Road_allignment', 'Defect_of_vehicle', 'Service_year_of_vehicle']]\n",
    "df.head()"
   ]
  },
  {
   "cell_type": "code",
   "execution_count": 4,
   "metadata": {},
   "outputs": [
    {
     "data": {
      "text/plain": [
       "Index(['Time', 'Light_conditions', 'Sex_of_driver', 'Age_band_of_driver',\n",
       "       'Driving_experience', 'Educational_level', 'Cause_of_accident',\n",
       "       'Vehicle_movement', 'Vehicle_driver_relation', 'Pedestrian_movement',\n",
       "       'Age_band_of_casualty', 'Casualty_class', 'Number_of_casualties',\n",
       "       'Number_of_vehicles_involved', 'Type_of_collision',\n",
       "       'Weather_conditions', 'Road_surface_conditions', 'Road_surface_type',\n",
       "       'Types_of_Junction', 'Road_allignment', 'Defect_of_vehicle',\n",
       "       'Service_year_of_vehicle'],\n",
       "      dtype='object')"
      ]
     },
     "execution_count": 4,
     "metadata": {},
     "output_type": "execute_result"
    }
   ],
   "source": [
    "df.columns"
   ]
  },
  {
   "cell_type": "code",
   "execution_count": 5,
   "metadata": {},
   "outputs": [
    {
     "name": "stdout",
     "output_type": "stream",
     "text": [
      "<class 'pandas.core.frame.DataFrame'>\n",
      "RangeIndex: 12316 entries, 0 to 12315\n",
      "Data columns (total 22 columns):\n",
      " #   Column                       Non-Null Count  Dtype \n",
      "---  ------                       --------------  ----- \n",
      " 0   Time                         12316 non-null  object\n",
      " 1   Light_conditions             12316 non-null  object\n",
      " 2   Sex_of_driver                12316 non-null  object\n",
      " 3   Age_band_of_driver           12316 non-null  object\n",
      " 4   Driving_experience           11487 non-null  object\n",
      " 5   Educational_level            11575 non-null  object\n",
      " 6   Cause_of_accident            12316 non-null  object\n",
      " 7   Vehicle_movement             12008 non-null  object\n",
      " 8   Vehicle_driver_relation      11737 non-null  object\n",
      " 9   Pedestrian_movement          12316 non-null  object\n",
      " 10  Age_band_of_casualty         12316 non-null  object\n",
      " 11  Casualty_class               12316 non-null  object\n",
      " 12  Number_of_casualties         12316 non-null  int64 \n",
      " 13  Number_of_vehicles_involved  12316 non-null  int64 \n",
      " 14  Type_of_collision            12161 non-null  object\n",
      " 15  Weather_conditions           12316 non-null  object\n",
      " 16  Road_surface_conditions      12316 non-null  object\n",
      " 17  Road_surface_type            12144 non-null  object\n",
      " 18  Types_of_Junction            11429 non-null  object\n",
      " 19  Road_allignment              12174 non-null  object\n",
      " 20  Defect_of_vehicle            7889 non-null   object\n",
      " 21  Service_year_of_vehicle      8388 non-null   object\n",
      "dtypes: int64(2), object(20)\n",
      "memory usage: 2.1+ MB\n"
     ]
    }
   ],
   "source": [
    "df.info()"
   ]
  },
  {
   "cell_type": "code",
   "execution_count": 6,
   "metadata": {},
   "outputs": [
    {
     "data": {
      "text/html": [
       "<div>\n",
       "<style scoped>\n",
       "    .dataframe tbody tr th:only-of-type {\n",
       "        vertical-align: middle;\n",
       "    }\n",
       "\n",
       "    .dataframe tbody tr th {\n",
       "        vertical-align: top;\n",
       "    }\n",
       "\n",
       "    .dataframe thead th {\n",
       "        text-align: right;\n",
       "    }\n",
       "</style>\n",
       "<table border=\"1\" class=\"dataframe\">\n",
       "  <thead>\n",
       "    <tr style=\"text-align: right;\">\n",
       "      <th></th>\n",
       "      <th>Time</th>\n",
       "      <th>Light_conditions</th>\n",
       "      <th>Sex_of_driver</th>\n",
       "      <th>Age_band_of_driver</th>\n",
       "      <th>Driving_experience</th>\n",
       "      <th>Educational_level</th>\n",
       "      <th>Cause_of_accident</th>\n",
       "      <th>Vehicle_movement</th>\n",
       "      <th>Vehicle_driver_relation</th>\n",
       "      <th>Pedestrian_movement</th>\n",
       "      <th>Age_band_of_casualty</th>\n",
       "      <th>Casualty_class</th>\n",
       "      <th>Type_of_collision</th>\n",
       "      <th>Weather_conditions</th>\n",
       "      <th>Road_surface_conditions</th>\n",
       "      <th>Road_surface_type</th>\n",
       "      <th>Types_of_Junction</th>\n",
       "      <th>Road_allignment</th>\n",
       "      <th>Defect_of_vehicle</th>\n",
       "      <th>Service_year_of_vehicle</th>\n",
       "    </tr>\n",
       "  </thead>\n",
       "  <tbody>\n",
       "    <tr>\n",
       "      <th>count</th>\n",
       "      <td>12316</td>\n",
       "      <td>12316</td>\n",
       "      <td>12316</td>\n",
       "      <td>12316</td>\n",
       "      <td>11487</td>\n",
       "      <td>11575</td>\n",
       "      <td>12316</td>\n",
       "      <td>12008</td>\n",
       "      <td>11737</td>\n",
       "      <td>12316</td>\n",
       "      <td>12316</td>\n",
       "      <td>12316</td>\n",
       "      <td>12161</td>\n",
       "      <td>12316</td>\n",
       "      <td>12316</td>\n",
       "      <td>12144</td>\n",
       "      <td>11429</td>\n",
       "      <td>12174</td>\n",
       "      <td>7889</td>\n",
       "      <td>8388</td>\n",
       "    </tr>\n",
       "    <tr>\n",
       "      <th>unique</th>\n",
       "      <td>1074</td>\n",
       "      <td>4</td>\n",
       "      <td>3</td>\n",
       "      <td>5</td>\n",
       "      <td>7</td>\n",
       "      <td>7</td>\n",
       "      <td>20</td>\n",
       "      <td>13</td>\n",
       "      <td>4</td>\n",
       "      <td>9</td>\n",
       "      <td>6</td>\n",
       "      <td>4</td>\n",
       "      <td>10</td>\n",
       "      <td>9</td>\n",
       "      <td>4</td>\n",
       "      <td>5</td>\n",
       "      <td>8</td>\n",
       "      <td>9</td>\n",
       "      <td>3</td>\n",
       "      <td>6</td>\n",
       "    </tr>\n",
       "    <tr>\n",
       "      <th>top</th>\n",
       "      <td>15:30:00</td>\n",
       "      <td>Daylight</td>\n",
       "      <td>Male</td>\n",
       "      <td>18-30</td>\n",
       "      <td>5-10yr</td>\n",
       "      <td>Junior high school</td>\n",
       "      <td>No distancing</td>\n",
       "      <td>Going straight</td>\n",
       "      <td>Employee</td>\n",
       "      <td>Not a Pedestrian</td>\n",
       "      <td>na</td>\n",
       "      <td>Driver or rider</td>\n",
       "      <td>Vehicle with vehicle collision</td>\n",
       "      <td>Normal</td>\n",
       "      <td>Dry</td>\n",
       "      <td>Asphalt roads</td>\n",
       "      <td>Y Shape</td>\n",
       "      <td>Tangent road with flat terrain</td>\n",
       "      <td>No defect</td>\n",
       "      <td>Unknown</td>\n",
       "    </tr>\n",
       "    <tr>\n",
       "      <th>freq</th>\n",
       "      <td>120</td>\n",
       "      <td>8798</td>\n",
       "      <td>11437</td>\n",
       "      <td>4271</td>\n",
       "      <td>3363</td>\n",
       "      <td>7619</td>\n",
       "      <td>2263</td>\n",
       "      <td>8158</td>\n",
       "      <td>9627</td>\n",
       "      <td>11390</td>\n",
       "      <td>4443</td>\n",
       "      <td>4944</td>\n",
       "      <td>8774</td>\n",
       "      <td>10063</td>\n",
       "      <td>9340</td>\n",
       "      <td>11296</td>\n",
       "      <td>4543</td>\n",
       "      <td>10459</td>\n",
       "      <td>7777</td>\n",
       "      <td>2883</td>\n",
       "    </tr>\n",
       "  </tbody>\n",
       "</table>\n",
       "</div>"
      ],
      "text/plain": [
       "            Time Light_conditions Sex_of_driver Age_band_of_driver  \\\n",
       "count      12316            12316         12316              12316   \n",
       "unique      1074                4             3                  5   \n",
       "top     15:30:00         Daylight          Male              18-30   \n",
       "freq         120             8798         11437               4271   \n",
       "\n",
       "       Driving_experience   Educational_level Cause_of_accident  \\\n",
       "count               11487               11575             12316   \n",
       "unique                  7                   7                20   \n",
       "top                5-10yr  Junior high school     No distancing   \n",
       "freq                 3363                7619              2263   \n",
       "\n",
       "       Vehicle_movement Vehicle_driver_relation Pedestrian_movement  \\\n",
       "count             12008                   11737               12316   \n",
       "unique               13                       4                   9   \n",
       "top      Going straight                Employee    Not a Pedestrian   \n",
       "freq               8158                    9627               11390   \n",
       "\n",
       "       Age_band_of_casualty   Casualty_class               Type_of_collision  \\\n",
       "count                 12316            12316                           12161   \n",
       "unique                    6                4                              10   \n",
       "top                      na  Driver or rider  Vehicle with vehicle collision   \n",
       "freq                   4443             4944                            8774   \n",
       "\n",
       "       Weather_conditions Road_surface_conditions Road_surface_type  \\\n",
       "count               12316                   12316             12144   \n",
       "unique                  9                       4                 5   \n",
       "top                Normal                     Dry     Asphalt roads   \n",
       "freq                10063                    9340             11296   \n",
       "\n",
       "       Types_of_Junction                 Road_allignment Defect_of_vehicle  \\\n",
       "count              11429                           12174              7889   \n",
       "unique                 8                               9                 3   \n",
       "top              Y Shape  Tangent road with flat terrain         No defect   \n",
       "freq                4543                           10459              7777   \n",
       "\n",
       "       Service_year_of_vehicle  \n",
       "count                     8388  \n",
       "unique                       6  \n",
       "top                    Unknown  \n",
       "freq                      2883  "
      ]
     },
     "execution_count": 6,
     "metadata": {},
     "output_type": "execute_result"
    }
   ],
   "source": [
    "# Since our data has mostly categorical values, we will use the describe function to get the summary of the categorical data\n",
    "df.describe(include=['O'])"
   ]
  },
  {
   "cell_type": "code",
   "execution_count": 7,
   "metadata": {},
   "outputs": [
    {
     "data": {
      "text/plain": [
       "Time                            0.000000\n",
       "Light_conditions                0.000000\n",
       "Sex_of_driver                   0.000000\n",
       "Age_band_of_driver              0.000000\n",
       "Driving_experience              6.731082\n",
       "Educational_level               6.016564\n",
       "Cause_of_accident               0.000000\n",
       "Vehicle_movement                2.500812\n",
       "Vehicle_driver_relation         4.701202\n",
       "Pedestrian_movement             0.000000\n",
       "Age_band_of_casualty            0.000000\n",
       "Casualty_class                  0.000000\n",
       "Number_of_casualties            0.000000\n",
       "Number_of_vehicles_involved     0.000000\n",
       "Type_of_collision               1.258525\n",
       "Weather_conditions              0.000000\n",
       "Road_surface_conditions         0.000000\n",
       "Road_surface_type               1.396557\n",
       "Types_of_Junction               7.202014\n",
       "Road_allignment                 1.152972\n",
       "Defect_of_vehicle              35.945112\n",
       "Service_year_of_vehicle        31.893472\n",
       "dtype: float64"
      ]
     },
     "execution_count": 7,
     "metadata": {},
     "output_type": "execute_result"
    }
   ],
   "source": [
    "df.isnull().sum() * 100 / len(df)"
   ]
  },
  {
   "cell_type": "code",
   "execution_count": 8,
   "metadata": {},
   "outputs": [
    {
     "data": {
      "text/plain": [
       "Male       4103\n",
       "Female      251\n",
       "Unknown      73\n",
       "Name: Sex_of_driver, dtype: int64"
      ]
     },
     "execution_count": 8,
     "metadata": {},
     "output_type": "execute_result"
    }
   ],
   "source": [
    "# checking how many instances were female where defect of vehicle is not recorded\n",
    "df['Sex_of_driver'].loc[df['Defect_of_vehicle'].isnull()].value_counts()"
   ]
  },
  {
   "cell_type": "code",
   "execution_count": 9,
   "metadata": {},
   "outputs": [
    {
     "data": {
      "text/plain": [
       "Driver or rider    4944\n",
       "na                 4443\n",
       "Pedestrian         1649\n",
       "Passenger          1280\n",
       "Name: Casualty_class, dtype: int64"
      ]
     },
     "execution_count": 9,
     "metadata": {},
     "output_type": "execute_result"
    }
   ],
   "source": [
    "df['Casualty_class'].value_counts()"
   ]
  },
  {
   "cell_type": "code",
   "execution_count": 10,
   "metadata": {},
   "outputs": [
    {
     "data": {
      "text/plain": [
       "array(['No defect', nan, '7', '5'], dtype=object)"
      ]
     },
     "execution_count": 10,
     "metadata": {},
     "output_type": "execute_result"
    }
   ],
   "source": [
    "df['Defect_of_vehicle'].unique()"
   ]
  },
  {
   "cell_type": "markdown",
   "metadata": {},
   "source": [
    "**Note:** _The values 5 and 7 represent a certain defect in the vehicle hence we will simply change them to defected as we do not have exact information that what type of defect do 5 or 7 represent._"
   ]
  },
  {
   "cell_type": "code",
   "execution_count": 11,
   "metadata": {},
   "outputs": [],
   "source": [
    "# using replace function to replace the 5 and 7 values with Defected string\n",
    "df['Defect_of_vehicle'].replace('5', 'Defected', inplace=True)\n",
    "df['Defect_of_vehicle'].replace('7', 'Defected', inplace=True)"
   ]
  },
  {
   "cell_type": "code",
   "execution_count": 12,
   "metadata": {},
   "outputs": [
    {
     "data": {
      "text/plain": [
       "Not a Pedestrian                                                                                                                         11390\n",
       "Crossing from nearside - masked by parked or statioNot a Pedestrianry vehicle                                                              337\n",
       "Unknown or other                                                                                                                           293\n",
       "Crossing from driver's nearside                                                                                                            140\n",
       "Crossing from offside - masked by  parked or statioNot a Pedestrianry vehicle                                                               72\n",
       "In carriageway, statioNot a Pedestrianry - not crossing  (standing or playing)                                                              46\n",
       "Walking along in carriageway, back to traffic                                                                                               18\n",
       "In carriageway, statioNot a Pedestrianry - not crossing  (standing or playing) - masked by parked or statioNot a Pedestrianry vehicle       13\n",
       "Walking along in carriageway, facing traffic                                                                                                 7\n",
       "Name: Pedestrian_movement, dtype: int64"
      ]
     },
     "execution_count": 12,
     "metadata": {},
     "output_type": "execute_result"
    }
   ],
   "source": [
    "# finding out number of rows where service year of vehicle and defect of vehicle are both null\n",
    "df['Pedestrian_movement'].value_counts()\n",
    "# since certain values are unclear we will drop the column"
   ]
  },
  {
   "cell_type": "code",
   "execution_count": 13,
   "metadata": {},
   "outputs": [
    {
     "data": {
      "text/plain": [
       "array(['No defect', nan, 'Defected'], dtype=object)"
      ]
     },
     "execution_count": 13,
     "metadata": {},
     "output_type": "execute_result"
    }
   ],
   "source": [
    "df['Defect_of_vehicle'].unique() "
   ]
  },
  {
   "cell_type": "code",
   "execution_count": 14,
   "metadata": {},
   "outputs": [],
   "source": [
    "# we will now fill the missing values with unknown string since we don't know the defect of vehicle or other important information which might have not been available hence is missing in dataset\n",
    "df['Defect_of_vehicle'].fillna('Unknown', inplace=True)\n",
    "df['Service_year_of_vehicle'].fillna('Unknown', inplace=True)\n",
    "df['Driving_experience'].fillna('Unknown', inplace=True)\n",
    "df['Vehicle_driver_relation'].fillna('Unknown', inplace=True)\n",
    "df['Educational_level'].fillna('Unknown', inplace=True)\n",
    "df['Road_allignment'].fillna('Unknown', inplace=True)\n",
    "df['Types_of_Junction'].fillna('Unknown', inplace=True)\n",
    "df['Road_surface_type'].fillna('Unknown', inplace=True)\n",
    "df['Type_of_collision'].fillna('Unknown', inplace=True)\n",
    "df['Vehicle_movement'].fillna('Unknown', inplace=True)"
   ]
  },
  {
   "cell_type": "code",
   "execution_count": 15,
   "metadata": {},
   "outputs": [
    {
     "data": {
      "text/plain": [
       "Going straight         8158\n",
       "Moving Backward         985\n",
       "Other                   937\n",
       "Reversing               563\n",
       "Turnover                489\n",
       "Unknown                 396\n",
       "Getting off             339\n",
       "Entering a junction     193\n",
       "Overtaking               96\n",
       "Stopping                 61\n",
       "U-Turn                   50\n",
       "Waiting to go            39\n",
       "Parked                   10\n",
       "Name: Vehicle_movement, dtype: int64"
      ]
     },
     "execution_count": 15,
     "metadata": {},
     "output_type": "execute_result"
    }
   ],
   "source": [
    "df['Vehicle_movement'].value_counts()"
   ]
  },
  {
   "cell_type": "code",
   "execution_count": 16,
   "metadata": {},
   "outputs": [
    {
     "data": {
      "text/plain": [
       "Y Shape        4543\n",
       "No junction    3837\n",
       "Crossing       2177\n",
       "Unknown        1078\n",
       "Other           445\n",
       "O Shape         164\n",
       "T Shape          60\n",
       "X Shape          12\n",
       "Name: Types_of_Junction, dtype: int64"
      ]
     },
     "execution_count": 16,
     "metadata": {},
     "output_type": "execute_result"
    }
   ],
   "source": [
    "df['Types_of_Junction'].value_counts()\n",
    "# also going to drop types of junction since it isnt specified at which point and we can simply use vehicle movement for our analysis instead of the shape of junction"
   ]
  },
  {
   "cell_type": "code",
   "execution_count": 17,
   "metadata": {},
   "outputs": [
    {
     "data": {
      "text/html": [
       "<div>\n",
       "<style scoped>\n",
       "    .dataframe tbody tr th:only-of-type {\n",
       "        vertical-align: middle;\n",
       "    }\n",
       "\n",
       "    .dataframe tbody tr th {\n",
       "        vertical-align: top;\n",
       "    }\n",
       "\n",
       "    .dataframe thead th {\n",
       "        text-align: right;\n",
       "    }\n",
       "</style>\n",
       "<table border=\"1\" class=\"dataframe\">\n",
       "  <thead>\n",
       "    <tr style=\"text-align: right;\">\n",
       "      <th></th>\n",
       "      <th>Time</th>\n",
       "      <th>Sex_of_driver</th>\n",
       "      <th>Age_band_of_driver</th>\n",
       "      <th>Driving_experience</th>\n",
       "      <th>Cause_of_accident</th>\n",
       "      <th>Vehicle_driver_relation</th>\n",
       "      <th>Weather_conditions</th>\n",
       "      <th>Road_surface_conditions</th>\n",
       "      <th>Defect_of_vehicle</th>\n",
       "    </tr>\n",
       "  </thead>\n",
       "  <tbody>\n",
       "    <tr>\n",
       "      <th>0</th>\n",
       "      <td>17:02:00</td>\n",
       "      <td>Male</td>\n",
       "      <td>18-30</td>\n",
       "      <td>1-2yr</td>\n",
       "      <td>Moving Backward</td>\n",
       "      <td>Employee</td>\n",
       "      <td>Normal</td>\n",
       "      <td>Dry</td>\n",
       "      <td>No defect</td>\n",
       "    </tr>\n",
       "    <tr>\n",
       "      <th>1</th>\n",
       "      <td>17:02:00</td>\n",
       "      <td>Male</td>\n",
       "      <td>31-50</td>\n",
       "      <td>Above 10yr</td>\n",
       "      <td>Overtaking</td>\n",
       "      <td>Employee</td>\n",
       "      <td>Normal</td>\n",
       "      <td>Dry</td>\n",
       "      <td>No defect</td>\n",
       "    </tr>\n",
       "    <tr>\n",
       "      <th>2</th>\n",
       "      <td>17:02:00</td>\n",
       "      <td>Male</td>\n",
       "      <td>18-30</td>\n",
       "      <td>1-2yr</td>\n",
       "      <td>Changing lane to the left</td>\n",
       "      <td>Employee</td>\n",
       "      <td>Normal</td>\n",
       "      <td>Dry</td>\n",
       "      <td>No defect</td>\n",
       "    </tr>\n",
       "  </tbody>\n",
       "</table>\n",
       "</div>"
      ],
      "text/plain": [
       "       Time Sex_of_driver Age_band_of_driver Driving_experience  \\\n",
       "0  17:02:00          Male              18-30              1-2yr   \n",
       "1  17:02:00          Male              31-50         Above 10yr   \n",
       "2  17:02:00          Male              18-30              1-2yr   \n",
       "\n",
       "           Cause_of_accident Vehicle_driver_relation Weather_conditions  \\\n",
       "0            Moving Backward                Employee             Normal   \n",
       "1                 Overtaking                Employee             Normal   \n",
       "2  Changing lane to the left                Employee             Normal   \n",
       "\n",
       "  Road_surface_conditions Defect_of_vehicle  \n",
       "0                     Dry         No defect  \n",
       "1                     Dry         No defect  \n",
       "2                     Dry         No defect  "
      ]
     },
     "execution_count": 17,
     "metadata": {},
     "output_type": "execute_result"
    }
   ],
   "source": [
    "# further dropping unneeded and inconsistent/nonsensicle columns\n",
    "df.drop(['Age_band_of_casualty', 'Pedestrian_movement', 'Number_of_casualties', 'Number_of_vehicles_involved', 'Type_of_collision', 'Types_of_Junction', 'Road_allignment', 'Casualty_class', 'Vehicle_movement', 'Educational_level', 'Road_surface_type', 'Light_conditions', 'Service_year_of_vehicle'], axis=1, inplace=True)\n",
    "df.head(3)"
   ]
  },
  {
   "cell_type": "code",
   "execution_count": 18,
   "metadata": {},
   "outputs": [
    {
     "data": {
      "text/html": [
       "<div>\n",
       "<style scoped>\n",
       "    .dataframe tbody tr th:only-of-type {\n",
       "        vertical-align: middle;\n",
       "    }\n",
       "\n",
       "    .dataframe tbody tr th {\n",
       "        vertical-align: top;\n",
       "    }\n",
       "\n",
       "    .dataframe thead th {\n",
       "        text-align: right;\n",
       "    }\n",
       "</style>\n",
       "<table border=\"1\" class=\"dataframe\">\n",
       "  <thead>\n",
       "    <tr style=\"text-align: right;\">\n",
       "      <th></th>\n",
       "      <th>Hour_of_day</th>\n",
       "      <th>Sex_of_driver</th>\n",
       "      <th>Age_band_of_driver</th>\n",
       "      <th>Driving_experience</th>\n",
       "      <th>Cause_of_accident</th>\n",
       "      <th>Vehicle_driver_relation</th>\n",
       "      <th>Weather_conditions</th>\n",
       "      <th>Road_surface_conditions</th>\n",
       "      <th>Defect_of_vehicle</th>\n",
       "    </tr>\n",
       "  </thead>\n",
       "  <tbody>\n",
       "    <tr>\n",
       "      <th>0</th>\n",
       "      <td>17</td>\n",
       "      <td>Male</td>\n",
       "      <td>18-30</td>\n",
       "      <td>1-2yr</td>\n",
       "      <td>Moving Backward</td>\n",
       "      <td>Employee</td>\n",
       "      <td>Normal</td>\n",
       "      <td>Dry</td>\n",
       "      <td>No defect</td>\n",
       "    </tr>\n",
       "    <tr>\n",
       "      <th>1</th>\n",
       "      <td>17</td>\n",
       "      <td>Male</td>\n",
       "      <td>31-50</td>\n",
       "      <td>Above 10yr</td>\n",
       "      <td>Overtaking</td>\n",
       "      <td>Employee</td>\n",
       "      <td>Normal</td>\n",
       "      <td>Dry</td>\n",
       "      <td>No defect</td>\n",
       "    </tr>\n",
       "    <tr>\n",
       "      <th>2</th>\n",
       "      <td>17</td>\n",
       "      <td>Male</td>\n",
       "      <td>18-30</td>\n",
       "      <td>1-2yr</td>\n",
       "      <td>Changing lane to the left</td>\n",
       "      <td>Employee</td>\n",
       "      <td>Normal</td>\n",
       "      <td>Dry</td>\n",
       "      <td>No defect</td>\n",
       "    </tr>\n",
       "    <tr>\n",
       "      <th>3</th>\n",
       "      <td>1</td>\n",
       "      <td>Male</td>\n",
       "      <td>18-30</td>\n",
       "      <td>5-10yr</td>\n",
       "      <td>Changing lane to the right</td>\n",
       "      <td>Employee</td>\n",
       "      <td>Normal</td>\n",
       "      <td>Dry</td>\n",
       "      <td>No defect</td>\n",
       "    </tr>\n",
       "    <tr>\n",
       "      <th>4</th>\n",
       "      <td>1</td>\n",
       "      <td>Male</td>\n",
       "      <td>18-30</td>\n",
       "      <td>2-5yr</td>\n",
       "      <td>Overtaking</td>\n",
       "      <td>Employee</td>\n",
       "      <td>Normal</td>\n",
       "      <td>Dry</td>\n",
       "      <td>No defect</td>\n",
       "    </tr>\n",
       "  </tbody>\n",
       "</table>\n",
       "</div>"
      ],
      "text/plain": [
       "   Hour_of_day Sex_of_driver Age_band_of_driver Driving_experience  \\\n",
       "0           17          Male              18-30              1-2yr   \n",
       "1           17          Male              31-50         Above 10yr   \n",
       "2           17          Male              18-30              1-2yr   \n",
       "3            1          Male              18-30             5-10yr   \n",
       "4            1          Male              18-30              2-5yr   \n",
       "\n",
       "            Cause_of_accident Vehicle_driver_relation Weather_conditions  \\\n",
       "0             Moving Backward                Employee             Normal   \n",
       "1                  Overtaking                Employee             Normal   \n",
       "2   Changing lane to the left                Employee             Normal   \n",
       "3  Changing lane to the right                Employee             Normal   \n",
       "4                  Overtaking                Employee             Normal   \n",
       "\n",
       "  Road_surface_conditions Defect_of_vehicle  \n",
       "0                     Dry         No defect  \n",
       "1                     Dry         No defect  \n",
       "2                     Dry         No defect  \n",
       "3                     Dry         No defect  \n",
       "4                     Dry         No defect  "
      ]
     },
     "execution_count": 18,
     "metadata": {},
     "output_type": "execute_result"
    }
   ],
   "source": [
    "# convert object type column into datetime datatype column\n",
    "df['Time'] = pd.to_datetime(df['Time'])\n",
    "\n",
    "# Extrating 'Hour_of_Day' feature from the Time column\n",
    "new_df = df.copy()\n",
    "new_df['Hour_of_day'] = new_df['Time'].dt.hour\n",
    "df1 = new_df.drop('Time', axis=1)\n",
    "col = df1.pop('Hour_of_day')\n",
    "df1.insert(0, col.name, col)\n",
    "df1.head()"
   ]
  },
  {
   "cell_type": "code",
   "execution_count": 19,
   "metadata": {},
   "outputs": [
    {
     "data": {
      "text/html": [
       "<div>\n",
       "<style scoped>\n",
       "    .dataframe tbody tr th:only-of-type {\n",
       "        vertical-align: middle;\n",
       "    }\n",
       "\n",
       "    .dataframe tbody tr th {\n",
       "        vertical-align: top;\n",
       "    }\n",
       "\n",
       "    .dataframe thead th {\n",
       "        text-align: right;\n",
       "    }\n",
       "</style>\n",
       "<table border=\"1\" class=\"dataframe\">\n",
       "  <thead>\n",
       "    <tr style=\"text-align: right;\">\n",
       "      <th></th>\n",
       "      <th>Sex_of_driver</th>\n",
       "      <th>Age_band_of_driver</th>\n",
       "      <th>Driving_experience</th>\n",
       "      <th>Cause_of_accident</th>\n",
       "      <th>Vehicle_driver_relation</th>\n",
       "      <th>Weather_conditions</th>\n",
       "      <th>Road_surface_conditions</th>\n",
       "      <th>Defect_of_vehicle</th>\n",
       "    </tr>\n",
       "  </thead>\n",
       "  <tbody>\n",
       "    <tr>\n",
       "      <th>Sex_of_driver</th>\n",
       "      <td>1.0</td>\n",
       "      <td>0.359249</td>\n",
       "      <td>0.0</td>\n",
       "      <td>0.008148</td>\n",
       "      <td>0.0</td>\n",
       "      <td>0.032631</td>\n",
       "      <td>0.027506</td>\n",
       "      <td>0.018067</td>\n",
       "    </tr>\n",
       "    <tr>\n",
       "      <th>Age_band_of_driver</th>\n",
       "      <td>0.359249</td>\n",
       "      <td>1.0</td>\n",
       "      <td>0.008042</td>\n",
       "      <td>0.012398</td>\n",
       "      <td>0.0</td>\n",
       "      <td>0.046153</td>\n",
       "      <td>0.043874</td>\n",
       "      <td>0.021234</td>\n",
       "    </tr>\n",
       "    <tr>\n",
       "      <th>Driving_experience</th>\n",
       "      <td>0.0</td>\n",
       "      <td>0.008042</td>\n",
       "      <td>1.0</td>\n",
       "      <td>0.0</td>\n",
       "      <td>0.413756</td>\n",
       "      <td>0.0</td>\n",
       "      <td>0.006844</td>\n",
       "      <td>0.033477</td>\n",
       "    </tr>\n",
       "    <tr>\n",
       "      <th>Cause_of_accident</th>\n",
       "      <td>0.008148</td>\n",
       "      <td>0.012398</td>\n",
       "      <td>0.0</td>\n",
       "      <td>1.0</td>\n",
       "      <td>0.0</td>\n",
       "      <td>0.0</td>\n",
       "      <td>0.0</td>\n",
       "      <td>0.00451</td>\n",
       "    </tr>\n",
       "    <tr>\n",
       "      <th>Vehicle_driver_relation</th>\n",
       "      <td>0.0</td>\n",
       "      <td>0.0</td>\n",
       "      <td>0.413756</td>\n",
       "      <td>0.0</td>\n",
       "      <td>1.0</td>\n",
       "      <td>0.0</td>\n",
       "      <td>0.0</td>\n",
       "      <td>0.022755</td>\n",
       "    </tr>\n",
       "    <tr>\n",
       "      <th>Weather_conditions</th>\n",
       "      <td>0.032631</td>\n",
       "      <td>0.046153</td>\n",
       "      <td>0.0</td>\n",
       "      <td>0.0</td>\n",
       "      <td>0.0</td>\n",
       "      <td>1.0</td>\n",
       "      <td>0.525914</td>\n",
       "      <td>0.013636</td>\n",
       "    </tr>\n",
       "    <tr>\n",
       "      <th>Road_surface_conditions</th>\n",
       "      <td>0.027506</td>\n",
       "      <td>0.043874</td>\n",
       "      <td>0.006844</td>\n",
       "      <td>0.0</td>\n",
       "      <td>0.0</td>\n",
       "      <td>0.525914</td>\n",
       "      <td>1.0</td>\n",
       "      <td>0.0</td>\n",
       "    </tr>\n",
       "    <tr>\n",
       "      <th>Defect_of_vehicle</th>\n",
       "      <td>0.018067</td>\n",
       "      <td>0.021234</td>\n",
       "      <td>0.033477</td>\n",
       "      <td>0.00451</td>\n",
       "      <td>0.022755</td>\n",
       "      <td>0.013636</td>\n",
       "      <td>0.0</td>\n",
       "      <td>1.0</td>\n",
       "    </tr>\n",
       "  </tbody>\n",
       "</table>\n",
       "</div>"
      ],
      "text/plain": [
       "                        Sex_of_driver Age_band_of_driver Driving_experience  \\\n",
       "Sex_of_driver                     1.0           0.359249                0.0   \n",
       "Age_band_of_driver           0.359249                1.0           0.008042   \n",
       "Driving_experience                0.0           0.008042                1.0   \n",
       "Cause_of_accident            0.008148           0.012398                0.0   \n",
       "Vehicle_driver_relation           0.0                0.0           0.413756   \n",
       "Weather_conditions           0.032631           0.046153                0.0   \n",
       "Road_surface_conditions      0.027506           0.043874           0.006844   \n",
       "Defect_of_vehicle            0.018067           0.021234           0.033477   \n",
       "\n",
       "                        Cause_of_accident Vehicle_driver_relation  \\\n",
       "Sex_of_driver                    0.008148                     0.0   \n",
       "Age_band_of_driver               0.012398                     0.0   \n",
       "Driving_experience                    0.0                0.413756   \n",
       "Cause_of_accident                     1.0                     0.0   \n",
       "Vehicle_driver_relation               0.0                     1.0   \n",
       "Weather_conditions                    0.0                     0.0   \n",
       "Road_surface_conditions               0.0                     0.0   \n",
       "Defect_of_vehicle                 0.00451                0.022755   \n",
       "\n",
       "                        Weather_conditions Road_surface_conditions  \\\n",
       "Sex_of_driver                     0.032631                0.027506   \n",
       "Age_band_of_driver                0.046153                0.043874   \n",
       "Driving_experience                     0.0                0.006844   \n",
       "Cause_of_accident                      0.0                     0.0   \n",
       "Vehicle_driver_relation                0.0                     0.0   \n",
       "Weather_conditions                     1.0                0.525914   \n",
       "Road_surface_conditions           0.525914                     1.0   \n",
       "Defect_of_vehicle                 0.013636                     0.0   \n",
       "\n",
       "                        Defect_of_vehicle  \n",
       "Sex_of_driver                    0.018067  \n",
       "Age_band_of_driver               0.021234  \n",
       "Driving_experience               0.033477  \n",
       "Cause_of_accident                 0.00451  \n",
       "Vehicle_driver_relation          0.022755  \n",
       "Weather_conditions               0.013636  \n",
       "Road_surface_conditions               0.0  \n",
       "Defect_of_vehicle                     1.0  "
      ]
     },
     "execution_count": 19,
     "metadata": {},
     "output_type": "execute_result"
    }
   ],
   "source": [
    "# checking the correaltion of the categorical variables\n",
    "def cramers_v(x, y):\n",
    "    confusion_matrix = pd.crosstab(x, y)\n",
    "    chi2 = chi2_contingency(confusion_matrix)[0]\n",
    "    n = confusion_matrix.sum().sum()\n",
    "    phi2 = chi2 / n\n",
    "    r, k = confusion_matrix.shape\n",
    "    phi2corr = max(0, phi2 - ((k-1)*(r-1))/(n-1))\n",
    "    rcorr = r - ((r-1)**2)/(n-1)\n",
    "    kcorr = k - ((k-1)**2)/(n-1)\n",
    "    return np.sqrt(phi2corr / min((kcorr-1), (rcorr-1)))\n",
    "\n",
    "# select only the categorical variables\n",
    "cat_vars = df1.select_dtypes(include=['O']).columns.tolist()\n",
    "cat_vars\n",
    "\n",
    "# create an empty dataframe to store the results\n",
    "cramers_v_matrix = pd.DataFrame(index=cat_vars, columns=cat_vars)\n",
    "cramers_v_matrix\n",
    "\n",
    "# loop through the variables and calculate the Cramer's V score\n",
    "for row in cat_vars:\n",
    "    for col in cat_vars:\n",
    "        cramers_v_matrix.loc[row, col] = cramers_v(df1[row], df1[col])\n",
    "\n",
    "cramers_v_matrix"
   ]
  },
  {
   "cell_type": "markdown",
   "metadata": {},
   "source": [
    "------------------"
   ]
  },
  {
   "cell_type": "markdown",
   "metadata": {},
   "source": [
    "#### Factors In Our Analysis Responsible For The Accidents Are As Follows: \n",
    "1. Hour Of Day: Time in hours when accident happened, helps in verifying the light conditions factor too.\n",
    "2. Sex Of Driver: The gender of the driver male or female.\n",
    "3. Cause Of Accident: Whether accident happened while changing lanes or reversing etc.\n",
    "4. Vehicle Driver Relation: This helps us in identifying that if the driver was an employee and the car also happened to be defected then the owner of the car is also partly to blame.\n",
    "5. Weather Conditions: We can check to see if bad weather conditions played any significant role.\n",
    "6. Road Surface Condition: We can check to see if any specific road surface condition had an effect.\n",
    "7. Defect Of Vehicle: Whether the vehicle had any defect.\n",
    "8. Driving Experience: What was the driving experience of the driver i.e. was he/she a newbie or had considerable experience before.\n",
    "9. Age Band Of Driver: The age of the driver."
   ]
  },
  {
   "cell_type": "markdown",
   "metadata": {},
   "source": [
    "#### Now Let's Visualize The Results And Gather Further Insights!!"
   ]
  },
  {
   "cell_type": "markdown",
   "metadata": {},
   "source": [
    "-----------------"
   ]
  },
  {
   "cell_type": "markdown",
   "metadata": {},
   "source": [
    "Finally the answer to the question we've all been waiting for. Are females really the cause of vast amounts of accidents?\\\n",
    "Have a look at the figure below, the results are shocking😱...!!"
   ]
  },
  {
   "cell_type": "code",
   "execution_count": 20,
   "metadata": {},
   "outputs": [
    {
     "data": {
      "image/png": "[encoded data removed]",
      "text/plain": [
       "<Figure size 800x700 with 1 Axes>"
      ]
     },
     "metadata": {},
     "output_type": "display_data"
    }
   ],
   "source": [
    "# group the data by sex of driver\n",
    "sex_counts = df1.groupby('Sex_of_driver').size()\n",
    "\n",
    "colors = ['#FFCDB2', '#E5989B', '#B5838D']\n",
    "inner_colors = ['#F5F5F5', '#F0ECEC', '#F5EFEF']\n",
    "\n",
    "# Create a circle for the center of the chart\n",
    "my_circle = plt.Circle((0, 0), 0.5, color='w')\n",
    "\n",
    "# Create the donut chart\n",
    "fig, ax = plt.subplots(figsize=(8, 7))\n",
    "# Remove the spines\n",
    "ax.spines[['top','left','bottom']].set_visible(False)\n",
    "# Make the left spine thicker\n",
    "ax.spines['right'].set_linewidth(1.1)\n",
    "\n",
    "# Add in red line and rectangle on top\n",
    "ax.plot([-0.055, 1], [.98, .98], transform=fig.transFigure, clip_on=False, color='#4A3C4F', linewidth=1)\n",
    "ax.add_patch(plt.Rectangle((-0.099,.98), 0.06, -0.025, facecolor='#4A3C4F', transform=fig.transFigure, clip_on=False, linewidth = 0))\n",
    "\n",
    "# Plotting Figure\n",
    "ax.figure.set_facecolor('#f5f5f5')\n",
    "ax.pie(sex_counts, labels=sex_counts.index, colors=colors, wedgeprops={'width': 0.8}, autopct='   %1.1f%%', pctdistance=0.85, textprops={'fontsize': 13, 'fontweight': 'light', 'color': '#4a4a4a'})\n",
    "ax.add_artist(my_circle)\n",
    "\n",
    "\n",
    "# Add a title\n",
    "ax.text( -2.28, 1.38, 'Sex of Drivers', fontsize=18, fontweight='demibold', fontfamily='monospace')\n",
    "ax.text(-2.28, 1.28, 'Genders of drivers by percentage of accidents.', fontsize=14, fontweight='light', fontfamily='serif', color='#4a4a4a')\n",
    "\n",
    "# Show the chart\n",
    "plt.show()"
   ]
  },
  {
   "cell_type": "markdown",
   "metadata": {},
   "source": [
    "The majority of accidents(approximately 93%) are done by males, 5.7% by females and 1.4% of accidents occured at the hands of unknown genders. This shows us that women are not bad drivers and it is just a perception people have which can be changed by creating awareness through sharing such information with the general public."
   ]
  },
  {
   "cell_type": "markdown",
   "metadata": {},
   "source": [
    "---------------------"
   ]
  },
  {
   "cell_type": "markdown",
   "metadata": {},
   "source": [
    "Now since we know that males are responsible for almost all of the accidents (93%), so let's explore why."
   ]
  },
  {
   "cell_type": "code",
   "execution_count": 21,
   "metadata": {},
   "outputs": [
    {
     "data": {
      "image/png": "[encoded data removed]",
      "text/plain": [
       "<Figure size 800x600 with 1 Axes>"
      ]
     },
     "metadata": {},
     "output_type": "display_data"
    }
   ],
   "source": [
    "# get top 10 causes of accidents by value counts\n",
    "top_10_causes = df1['Cause_of_accident'].value_counts().head(10).index.tolist()\n",
    "\n",
    "# Plotting Figure\n",
    "with plt.style.context('rose-pine'):\n",
    "    fig, ax = plt.subplots(figsize=(8, 6))\n",
    "    # Remove the spines\n",
    "    ax.spines[['top','left','bottom']].set_visible(False)\n",
    "# Make the left spine thicker\n",
    "    ax.spines['right'].set_linewidth(1.1)\n",
    "    \n",
    "    ax = sns.countplot(y='Cause_of_accident', data=df1[df1['Cause_of_accident'].isin(top_10_causes)], order=top_10_causes, palette='Set3', saturation=1, alpha=1)\n",
    "\n",
    "    # add labels within the bars\n",
    "    for i, patch in enumerate(ax.patches):\n",
    "        ax.text(patch.get_width() + 2, patch.get_y() + patch.get_height() / 2, df1['Cause_of_accident'].value_counts().index[i], fontweight='bold', fontsize=12, color='#f5f5f5', ha='left', va='center')\n",
    "\n",
    "    ax.set(ylabel=None, xlabel=None)\n",
    "    # hide y-axis labels\n",
    "    ax.set_yticklabels([])\n",
    "    ax.set_yticks([])\n",
    "    ax.set_xticklabels([])\n",
    "    ax.set_xticks([])\n",
    "\n",
    "    # add labels within the bars\n",
    "    for patch in ax.patches:\n",
    "        width = patch.get_width()\n",
    "        height = patch.get_height()\n",
    "        x, y = patch.get_xy()\n",
    "        ax.text(x + width/2, y + height/2, int(width), fontsize=12, fontweight='bold', color='#4a4a4a', ha='center', va='center')\n",
    "        # add heading and subheading to the figure\n",
    "    fig.text(0.05, 0.99, 'Top 10 Causes of Accidents', fontsize=17, fontweight='bold', fontfamily='monospace', color='#f5f5f5')\n",
    "    fig.text(0.05, 0.95, 'Next to each bar is the cause of accident while the numbers within the bars represent the total accidents due to that cause.', fontsize=11, fontweight='light', color='#f5f5f5')\n",
    "# Show the chart\n",
    "plt.show()"
   ]
  },
  {
   "cell_type": "markdown",
   "metadata": {},
   "source": [
    "The number one cause of accidents is no distancing between vehicles followed by changing of lanes.\n",
    "\n",
    "These can be prevented by regulating traffic laws which highlight the importance of maintaining distance between the vehicles and emphasizing the need to check plus use indicator when switching lanes."
   ]
  },
  {
   "cell_type": "markdown",
   "metadata": {},
   "source": [
    "---------"
   ]
  },
  {
   "cell_type": "code",
   "execution_count": 22,
   "metadata": {},
   "outputs": [
    {
     "data": {
      "image/png": "[encoded data removed]",
      "text/plain": [
       "<Figure size 1000x600 with 1 Axes>"
      ]
     },
     "metadata": {},
     "output_type": "display_data"
    }
   ],
   "source": [
    "# group the data by age band and cause of accident\n",
    "age_cause_counts = df1.groupby(['Age_band_of_driver', 'Cause_of_accident']).size().unstack()\n",
    "age_cause_counts.fillna(0, inplace=True)\n",
    "\n",
    "# get the top 5 most common causes of accidents for each age band\n",
    "top_causes = age_cause_counts.apply(lambda x: x.sort_values(ascending=False).head(6), axis=1).fillna(0).astype(int)\n",
    "\n",
    "# plot the horizontal bar chart\n",
    "with plt.style.context('rose-pine-dawn'):\n",
    "    # sns.set_theme(style='whitegrid')\n",
    "    top_causes.plot(kind='barh', figsize=(10, 6), cmap='viridis', width=.8)\n",
    "    plt.title('Top 6 Causes of Accidents by Age Band', fontsize=18, fontweight='bold', fontfamily='monospace', pad=20)\n",
    "    plt.xlabel('Number of Accidents', fontsize=14, fontweight='light', labelpad=10)\n",
    "    plt.ylabel('Age Band of Driver', fontsize=14, fontweight='light', labelpad=10)\n",
    "    plt.xticks(fontsize=12)\n",
    "    plt.yticks(fontsize=12)\n",
    "    plt.legend(fontsize=12)\n",
    "    plt.tight_layout()\n",
    "    plt.show()"
   ]
  },
  {
   "cell_type": "markdown",
   "metadata": {},
   "source": [
    "This tells us that all age bands are unified when it comes to accidents because of no distancing with the age band 18-30 leading in this followed by 31-50. Not only that, if you look at all the individual bars you will also see that the age band 18-30 is responsible for most accidents as it almost has all the highest bars for each cause. Surprisingly under 18 age band has caused the least amounts of accidents."
   ]
  },
  {
   "cell_type": "markdown",
   "metadata": {},
   "source": [
    "-------------------"
   ]
  },
  {
   "cell_type": "code",
   "execution_count": 23,
   "metadata": {},
   "outputs": [
    {
     "data": {
      "image/png": "[encoded data removed]",
      "text/plain": [
       "<Figure size 900x700 with 1 Axes>"
      ]
     },
     "metadata": {},
     "output_type": "display_data"
    }
   ],
   "source": [
    "# lets see the age band and the driving experience\n",
    "age_driving_counts = df1.groupby(['Age_band_of_driver', 'Driving_experience']).size().unstack()\n",
    "age_driving_counts.fillna(0, inplace=True)\n",
    "\n",
    "# show the age band and driving experience for each age band\n",
    "plt.figure(figsize=(9, 7), facecolor='#4a4a4a')\n",
    "ax = plt.axes()\n",
    "ax.set_facecolor('#4a4a4a')\n",
    "# sequential_colors = sns.color_palette(\"RdPu\", 8)\n",
    "sns.countplot(y='Age_band_of_driver', data=df1, hue='Driving_experience', palette='pastel', saturation=1, order=df1['Age_band_of_driver'].value_counts().index)\n",
    "plt.title('Driving Experience by Age Band', fontsize=18, fontweight='bold', fontfamily='monospace', pad=20, color='#f5f5f5')\n",
    "plt.xlabel('Number of Accidents', fontsize=14, fontweight='light', labelpad=10, color='#f5f5f5')\n",
    "plt.ylabel('Age Band of Driver', fontsize=14, fontweight='light', labelpad=10, color='#f5f5f5')\n",
    "plt.xticks(fontsize=12, color='#f5f5f5')\n",
    "plt.yticks(fontsize=12, color='#f5f5f5')\n",
    "plt.legend(fontsize=10, loc='lower right')\n",
    "plt.tight_layout()\n",
    "# changing the ticks and spines color\n",
    "ax.tick_params(axis='x', colors='#f5f5f5')\n",
    "ax.tick_params(axis='y', colors='#f5f5f5')\n",
    "ax.spines['bottom'].set_color('#f5f5f5')\n",
    "ax.spines['left'].set_color('#f5f5f5')\n",
    "# removing top and right spines\n",
    "ax.spines['top'].set_visible(False)\n",
    "ax.spines['right'].set_visible(False)\n",
    "plt.show()"
   ]
  },
  {
   "cell_type": "markdown",
   "metadata": {},
   "source": [
    "Now this is quite astonishing!! People with 5-10 years of driving experience caused more accidents in every age band. This is concerning given the fact that more experienced people are causing more accidents maybe because they tend to get careless.\n",
    "\n",
    "This can be avoided by effective campaigns which convey the message of staying vigilant while driving to protect one's life."
   ]
  },
  {
   "cell_type": "markdown",
   "metadata": {},
   "source": [
    "-----------"
   ]
  },
  {
   "cell_type": "code",
   "execution_count": 24,
   "metadata": {},
   "outputs": [
    {
     "data": {
      "application/vnd.plotly.v1+json": {
       "config": {
        "plotlyServerURL": "https://plot.ly"
       },
       "data": [
        {
         "branchvalues": "total",
         "customdata": [
          [
           78
          ],
          [
           24
          ],
          [
           10
          ],
          [
           6123
          ],
          [
           77
          ],
          [
           1242
          ],
          [
           335
          ],
          [
           3426
          ],
          [
           46
          ],
          [
           707
          ],
          [
           248
          ],
          [
           5114.229666562792
          ],
          [
           65.40650406504065
          ],
          [
           1035.473390775469
          ],
          [
           293.13490725126474
          ]
         ],
         "domain": {
          "x": [
           0,
           1
          ],
          "y": [
           0,
           1
          ]
         },
         "hovertemplate": "<b>%{label}</b><br>%{value}<br>%{percentParent:.1%}<extra></extra>",
         "ids": [
          "Employee/Defected",
          "Owner/Defected",
          "Unknown/Defected",
          "Employee/No defect",
          "Other/No defect",
          "Owner/No defect",
          "Unknown/No defect",
          "Employee/Unknown",
          "Other/Unknown",
          "Owner/Unknown",
          "Unknown/Unknown",
          "Employee",
          "Other",
          "Owner",
          "Unknown"
         ],
         "labels": [
          "Defected",
          "Defected",
          "Defected",
          "No defect",
          "No defect",
          "No defect",
          "No defect",
          "Unknown",
          "Unknown",
          "Unknown",
          "Unknown",
          "Employee",
          "Other",
          "Owner",
          "Unknown"
         ],
         "marker": {
          "coloraxis": "coloraxis",
          "colors": [
           78,
           24,
           10,
           6123,
           77,
           1242,
           335,
           3426,
           46,
           707,
           248,
           5114.229666562792,
           65.40650406504065,
           1035.473390775469,
           293.13490725126474
          ]
         },
         "name": "",
         "parents": [
          "Employee",
          "Owner",
          "Unknown",
          "Employee",
          "Other",
          "Owner",
          "Unknown",
          "Employee",
          "Other",
          "Owner",
          "Unknown",
          "",
          "",
          "",
          ""
         ],
         "type": "sunburst",
         "values": [
          78,
          24,
          10,
          6123,
          77,
          1242,
          335,
          3426,
          46,
          707,
          248,
          9627,
          123,
          1973,
          593
         ]
        }
       ],
       "layout": {
        "annotations": [
         {
          "font": {
           "color": "#4a4a4a",
           "size": 16
          },
          "showarrow": false,
          "text": "Counts of accidents that happened by employees or owners with percentage.",
          "x": 0.5,
          "y": 1.118
         },
         {
          "font": {
           "color": "#4a4a4a",
           "size": 14
          },
          "showarrow": false,
          "text": "In how many of those accidents was the vehicle defected/ not defected.",
          "x": 0.5,
          "y": 1.079
         }
        ],
        "coloraxis": {
         "colorbar": {
          "title": {
           "text": "count"
          }
         },
         "colorscale": [
          [
           0,
           "#30123b"
          ],
          [
           0.07142857142857142,
           "#4145ab"
          ],
          [
           0.14285714285714285,
           "#4675ed"
          ],
          [
           0.21428571428571427,
           "#39a2fc"
          ],
          [
           0.2857142857142857,
           "#1bcfd4"
          ],
          [
           0.35714285714285715,
           "#24eca6"
          ],
          [
           0.42857142857142855,
           "#61fc6c"
          ],
          [
           0.5,
           "#a4fc3b"
          ],
          [
           0.5714285714285714,
           "#d1e834"
          ],
          [
           0.6428571428571429,
           "#f3c63a"
          ],
          [
           0.7142857142857143,
           "#fe9b2d"
          ],
          [
           0.7857142857142857,
           "#f36315"
          ],
          [
           0.8571428571428571,
           "#d93806"
          ],
          [
           0.9285714285714286,
           "#b11901"
          ],
          [
           1,
           "#7a0402"
          ]
         ]
        },
        "height": 650,
        "legend": {
         "tracegroupgap": 0
        },
        "margin": {
         "t": 90
        },
        "template": {
         "data": {
          "bar": [
           {
            "error_x": {
             "color": "rgb(51,51,51)"
            },
            "error_y": {
             "color": "rgb(51,51,51)"
            },
            "marker": {
             "line": {
              "color": "rgb(237,237,237)",
              "width": 0.5
             },
             "pattern": {
              "fillmode": "overlay",
              "size": 10,
              "solidity": 0.2
             }
            },
            "type": "bar"
           }
          ],
          "barpolar": [
           {
            "marker": {
             "line": {
              "color": "rgb(237,237,237)",
              "width": 0.5
             },
             "pattern": {
              "fillmode": "overlay",
              "size": 10,
              "solidity": 0.2
             }
            },
            "type": "barpolar"
           }
          ],
          "carpet": [
           {
            "aaxis": {
             "endlinecolor": "rgb(51,51,51)",
             "gridcolor": "white",
             "linecolor": "white",
             "minorgridcolor": "white",
             "startlinecolor": "rgb(51,51,51)"
            },
            "baxis": {
             "endlinecolor": "rgb(51,51,51)",
             "gridcolor": "white",
             "linecolor": "white",
             "minorgridcolor": "white",
             "startlinecolor": "rgb(51,51,51)"
            },
            "type": "carpet"
           }
          ],
          "choropleth": [
           {
            "colorbar": {
             "outlinewidth": 0,
             "tickcolor": "rgb(237,237,237)",
             "ticklen": 6,
             "ticks": "inside"
            },
            "type": "choropleth"
           }
          ],
          "contour": [
           {
            "colorbar": {
             "outlinewidth": 0,
             "tickcolor": "rgb(237,237,237)",
             "ticklen": 6,
             "ticks": "inside"
            },
            "colorscale": [
             [
              0,
              "rgb(20,44,66)"
             ],
             [
              1,
              "rgb(90,179,244)"
             ]
            ],
            "type": "contour"
           }
          ],
          "contourcarpet": [
           {
            "colorbar": {
             "outlinewidth": 0,
             "tickcolor": "rgb(237,237,237)",
             "ticklen": 6,
             "ticks": "inside"
            },
            "type": "contourcarpet"
           }
          ],
          "heatmap": [
           {
            "colorbar": {
             "outlinewidth": 0,
             "tickcolor": "rgb(237,237,237)",
             "ticklen": 6,
             "ticks": "inside"
            },
            "colorscale": [
             [
              0,
              "rgb(20,44,66)"
             ],
             [
              1,
              "rgb(90,179,244)"
             ]
            ],
            "type": "heatmap"
           }
          ],
          "heatmapgl": [
           {
            "colorbar": {
             "outlinewidth": 0,
             "tickcolor": "rgb(237,237,237)",
             "ticklen": 6,
             "ticks": "inside"
            },
            "colorscale": [
             [
              0,
              "rgb(20,44,66)"
             ],
             [
              1,
              "rgb(90,179,244)"
             ]
            ],
            "type": "heatmapgl"
           }
          ],
          "histogram": [
           {
            "marker": {
             "pattern": {
              "fillmode": "overlay",
              "size": 10,
              "solidity": 0.2
             }
            },
            "type": "histogram"
           }
          ],
          "histogram2d": [
           {
            "colorbar": {
             "outlinewidth": 0,
             "tickcolor": "rgb(237,237,237)",
             "ticklen": 6,
             "ticks": "inside"
            },
            "colorscale": [
             [
              0,
              "rgb(20,44,66)"
             ],
             [
              1,
              "rgb(90,179,244)"
             ]
            ],
            "type": "histogram2d"
           }
          ],
          "histogram2dcontour": [
           {
            "colorbar": {
             "outlinewidth": 0,
             "tickcolor": "rgb(237,237,237)",
             "ticklen": 6,
             "ticks": "inside"
            },
            "colorscale": [
             [
              0,
              "rgb(20,44,66)"
             ],
             [
              1,
              "rgb(90,179,244)"
             ]
            ],
            "type": "histogram2dcontour"
           }
          ],
          "mesh3d": [
           {
            "colorbar": {
             "outlinewidth": 0,
             "tickcolor": "rgb(237,237,237)",
             "ticklen": 6,
             "ticks": "inside"
            },
            "type": "mesh3d"
           }
          ],
          "parcoords": [
           {
            "line": {
             "colorbar": {
              "outlinewidth": 0,
              "tickcolor": "rgb(237,237,237)",
              "ticklen": 6,
              "ticks": "inside"
             }
            },
            "type": "parcoords"
           }
          ],
          "pie": [
           {
            "automargin": true,
            "type": "pie"
           }
          ],
          "scatter": [
           {
            "fillpattern": {
             "fillmode": "overlay",
             "size": 10,
             "solidity": 0.2
            },
            "type": "scatter"
           }
          ],
          "scatter3d": [
           {
            "line": {
             "colorbar": {
              "outlinewidth": 0,
              "tickcolor": "rgb(237,237,237)",
              "ticklen": 6,
              "ticks": "inside"
             }
            },
            "marker": {
             "colorbar": {
              "outlinewidth": 0,
              "tickcolor": "rgb(237,237,237)",
              "ticklen": 6,
              "ticks": "inside"
             }
            },
            "type": "scatter3d"
           }
          ],
          "scattercarpet": [
           {
            "marker": {
             "colorbar": {
              "outlinewidth": 0,
              "tickcolor": "rgb(237,237,237)",
              "ticklen": 6,
              "ticks": "inside"
             }
            },
            "type": "scattercarpet"
           }
          ],
          "scattergeo": [
           {
            "marker": {
             "colorbar": {
              "outlinewidth": 0,
              "tickcolor": "rgb(237,237,237)",
              "ticklen": 6,
              "ticks": "inside"
             }
            },
            "type": "scattergeo"
           }
          ],
          "scattergl": [
           {
            "marker": {
             "colorbar": {
              "outlinewidth": 0,
              "tickcolor": "rgb(237,237,237)",
              "ticklen": 6,
              "ticks": "inside"
             }
            },
            "type": "scattergl"
           }
          ],
          "scattermapbox": [
           {
            "marker": {
             "colorbar": {
              "outlinewidth": 0,
              "tickcolor": "rgb(237,237,237)",
              "ticklen": 6,
              "ticks": "inside"
             }
            },
            "type": "scattermapbox"
           }
          ],
          "scatterpolar": [
           {
            "marker": {
             "colorbar": {
              "outlinewidth": 0,
              "tickcolor": "rgb(237,237,237)",
              "ticklen": 6,
              "ticks": "inside"
             }
            },
            "type": "scatterpolar"
           }
          ],
          "scatterpolargl": [
           {
            "marker": {
             "colorbar": {
              "outlinewidth": 0,
              "tickcolor": "rgb(237,237,237)",
              "ticklen": 6,
              "ticks": "inside"
             }
            },
            "type": "scatterpolargl"
           }
          ],
          "scatterternary": [
           {
            "marker": {
             "colorbar": {
              "outlinewidth": 0,
              "tickcolor": "rgb(237,237,237)",
              "ticklen": 6,
              "ticks": "inside"
             }
            },
            "type": "scatterternary"
           }
          ],
          "surface": [
           {
            "colorbar": {
             "outlinewidth": 0,
             "tickcolor": "rgb(237,237,237)",
             "ticklen": 6,
             "ticks": "inside"
            },
            "colorscale": [
             [
              0,
              "rgb(20,44,66)"
             ],
             [
              1,
              "rgb(90,179,244)"
             ]
            ],
            "type": "surface"
           }
          ],
          "table": [
           {
            "cells": {
             "fill": {
              "color": "rgb(237,237,237)"
             },
             "line": {
              "color": "white"
             }
            },
            "header": {
             "fill": {
              "color": "rgb(217,217,217)"
             },
             "line": {
              "color": "white"
             }
            },
            "type": "table"
           }
          ]
         },
         "layout": {
          "annotationdefaults": {
           "arrowhead": 0,
           "arrowwidth": 1
          },
          "autotypenumbers": "strict",
          "coloraxis": {
           "colorbar": {
            "outlinewidth": 0,
            "tickcolor": "rgb(237,237,237)",
            "ticklen": 6,
            "ticks": "inside"
           }
          },
          "colorscale": {
           "sequential": [
            [
             0,
             "rgb(20,44,66)"
            ],
            [
             1,
             "rgb(90,179,244)"
            ]
           ],
           "sequentialminus": [
            [
             0,
             "rgb(20,44,66)"
            ],
            [
             1,
             "rgb(90,179,244)"
            ]
           ]
          },
          "colorway": [
           "#F8766D",
           "#A3A500",
           "#00BF7D",
           "#00B0F6",
           "#E76BF3"
          ],
          "font": {
           "color": "rgb(51,51,51)"
          },
          "geo": {
           "bgcolor": "white",
           "lakecolor": "white",
           "landcolor": "rgb(237,237,237)",
           "showlakes": true,
           "showland": true,
           "subunitcolor": "white"
          },
          "hoverlabel": {
           "align": "left"
          },
          "hovermode": "closest",
          "paper_bgcolor": "white",
          "plot_bgcolor": "rgb(237,237,237)",
          "polar": {
           "angularaxis": {
            "gridcolor": "white",
            "linecolor": "white",
            "showgrid": true,
            "tickcolor": "rgb(51,51,51)",
            "ticks": "outside"
           },
           "bgcolor": "rgb(237,237,237)",
           "radialaxis": {
            "gridcolor": "white",
            "linecolor": "white",
            "showgrid": true,
            "tickcolor": "rgb(51,51,51)",
            "ticks": "outside"
           }
          },
          "scene": {
           "xaxis": {
            "backgroundcolor": "rgb(237,237,237)",
            "gridcolor": "white",
            "gridwidth": 2,
            "linecolor": "white",
            "showbackground": true,
            "showgrid": true,
            "tickcolor": "rgb(51,51,51)",
            "ticks": "outside",
            "zerolinecolor": "white"
           },
           "yaxis": {
            "backgroundcolor": "rgb(237,237,237)",
            "gridcolor": "white",
            "gridwidth": 2,
            "linecolor": "white",
            "showbackground": true,
            "showgrid": true,
            "tickcolor": "rgb(51,51,51)",
            "ticks": "outside",
            "zerolinecolor": "white"
           },
           "zaxis": {
            "backgroundcolor": "rgb(237,237,237)",
            "gridcolor": "white",
            "gridwidth": 2,
            "linecolor": "white",
            "showbackground": true,
            "showgrid": true,
            "tickcolor": "rgb(51,51,51)",
            "ticks": "outside",
            "zerolinecolor": "white"
           }
          },
          "shapedefaults": {
           "fillcolor": "black",
           "line": {
            "width": 0
           },
           "opacity": 0.3
          },
          "ternary": {
           "aaxis": {
            "gridcolor": "white",
            "linecolor": "white",
            "showgrid": true,
            "tickcolor": "rgb(51,51,51)",
            "ticks": "outside"
           },
           "baxis": {
            "gridcolor": "white",
            "linecolor": "white",
            "showgrid": true,
            "tickcolor": "rgb(51,51,51)",
            "ticks": "outside"
           },
           "bgcolor": "rgb(237,237,237)",
           "caxis": {
            "gridcolor": "white",
            "linecolor": "white",
            "showgrid": true,
            "tickcolor": "rgb(51,51,51)",
            "ticks": "outside"
           }
          },
          "xaxis": {
           "automargin": true,
           "gridcolor": "white",
           "linecolor": "white",
           "showgrid": true,
           "tickcolor": "rgb(51,51,51)",
           "ticks": "outside",
           "title": {
            "standoff": 15
           },
           "zerolinecolor": "white"
          },
          "yaxis": {
           "automargin": true,
           "gridcolor": "white",
           "linecolor": "white",
           "showgrid": true,
           "tickcolor": "rgb(51,51,51)",
           "ticks": "outside",
           "title": {
            "standoff": 15
           },
           "zerolinecolor": "white"
          }
         }
        },
        "title": {
         "font": {
          "color": "#4a4a4a",
          "family": "fantasy",
          "size": 24
         },
         "text": "Vehicle Driver Relation By Defect Of Vehicle In Accidents",
         "x": 0.5,
         "y": 0.986
        },
        "width": 700
       }
      }
     },
     "metadata": {},
     "output_type": "display_data"
    }
   ],
   "source": [
    "# checking the vehicle driver relation with defect of vehicle and making a plotly sunburst chart\n",
    "df1['Vehicle_driver_relation'].value_counts()\n",
    "\n",
    "# creating a dataframe for the sunburst chart\n",
    "df_sunburst = df1.groupby(['Vehicle_driver_relation', 'Defect_of_vehicle']).size().reset_index(name='count')\n",
    "\n",
    "# creating the sunburst chart\n",
    "fig = px.sunburst(df_sunburst, path=['Vehicle_driver_relation', 'Defect_of_vehicle'], values='count', color='count', color_continuous_scale='turbo', width=700, height=650)\n",
    "fig.update_layout(template = 'ggplot2', title_text='Vehicle Driver Relation By Defect Of Vehicle In Accidents', title=dict(text='Vehicle Driver Relation By Defect Of Vehicle In Accidents', x=0.5, y=0.986), title_font_family='fantasy', title_font_size=24, title_font_color='#4a4a4a', annotations=[dict(text='Counts of accidents that happened by employees or owners with percentage.', x=0.5, y=1.118, font=dict(size=16, color='#4a4a4a'), showarrow=False), dict(text='In how many of those accidents was the vehicle defected/ not defected.', x=0.5, y=1.079, font=dict(size=14, color='#4a4a4a'), showarrow=False)])\n",
    "fig.update_traces(hovertemplate='<b>%{label}</b><br>%{value}<br>%{percentParent:.1%}<extra></extra>')\n",
    "fig.update_layout(margin=dict(t=90))\n",
    "fig.show()"
   ]
  },
  {
   "cell_type": "markdown",
   "metadata": {},
   "source": [
    "------------"
   ]
  },
  {
   "cell_type": "code",
   "execution_count": 25,
   "metadata": {},
   "outputs": [
    {
     "data": {
      "image/png": "[encoded data removed]",
      "text/plain": [
       "<Figure size 800x450 with 1 Axes>"
      ]
     },
     "metadata": {},
     "output_type": "display_data"
    }
   ],
   "source": [
    "# plot the value counts of the weather conditions in descending order\n",
    "with plt.style.context('rose-pine-moon'):\n",
    "    weather_counts = df1['Weather_conditions'].value_counts().sort_values(ascending=True)\n",
    "    plt.figure(figsize=(8, 4.5))\n",
    "    plt.hlines(y=weather_counts.index, xmin=0, xmax=weather_counts, color='lightgrey', linewidth=3)\n",
    "    plt.plot(weather_counts, weather_counts.index, 'o')\n",
    "    plt.title('Weather Conditions', fontsize=18, fontweight='bold', fontfamily='monospace', pad=20)\n",
    "    plt.xlabel('Number of Accidents', fontsize=14, fontweight='light', labelpad=10)\n",
    "    plt.ylabel('Weather Conditions', fontsize=14, fontweight='light', labelpad=10)\n",
    "    plt.xticks(fontsize=12)\n",
    "    plt.yticks(fontsize=12)\n",
    "    cyb.add_gradient_fill()\n",
    "    plt.tight_layout()\n",
    "    plt.show()"
   ]
  },
  {
   "cell_type": "markdown",
   "metadata": {},
   "source": [
    "This is a pretty self explanatory graph of weather conditions and the number of tragedies that happened during that condition. Point to note is that almost all of accidents happened during normal weather condtions. Accidents during rain etc did happen but less compared to normal conditions indicating that weather conditions did not play a big role in the accidents."
   ]
  },
  {
   "cell_type": "markdown",
   "metadata": {},
   "source": [
    "-----------"
   ]
  },
  {
   "cell_type": "code",
   "execution_count": 26,
   "metadata": {},
   "outputs": [
    {
     "data": {
      "image/png": "[encoded data removed]",
      "text/plain": [
       "<Figure size 800x800 with 2 Axes>"
      ]
     },
     "metadata": {},
     "output_type": "display_data"
    }
   ],
   "source": [
    "# plot a radial bar chart for the 'Road_surface_conditions' column of df1\n",
    "with plt.style.context('seaborn-dark'):\n",
    "    road_counts = df1['Road_surface_conditions'].value_counts().sort_values(ascending=False).iloc[::-1]\n",
    "    max_value_full_ring = max(road_counts)\n",
    "    data_len = len(road_counts)\n",
    "    ring_colours = ['#2f4b7c', '#665191', '#a05195', '#d45087']\n",
    "    ring_labels = [f'   {x} ({v}) ' for x, v in zip(list(road_counts.index), list(road_counts))]\n",
    "    fig = plt.figure(figsize=(8, 8), linewidth=10, edgecolor='#393d5c', facecolor='#25253c')\n",
    "    rect = [0.1, 0.1, 0.8, 0.8]\n",
    "    ax_polar_bg = fig.add_axes(rect, polar=True, frameon=False)\n",
    "    ax_polar_bg.set_theta_zero_location('N')\n",
    "    ax_polar_bg.set_theta_direction(1)\n",
    "    for i in range(data_len):\n",
    "        ax_polar_bg.barh(i, max_value_full_ring*1.5*np.pi/max_value_full_ring, color='grey', alpha=0.1)\n",
    "    ax_polar_bg.axis('off')\n",
    "    ax_polar = fig.add_axes(rect, polar=True, frameon=False)\n",
    "    ax_polar.set_theta_zero_location('N')\n",
    "    ax_polar.set_theta_direction(1)\n",
    "    ax_polar.set_rgrids(range(data_len), labels=ring_labels, angle=0, fontsize=10, fontweight='bold', color='white', verticalalignment='center')\n",
    "    for i in range(data_len):\n",
    "        ax_polar.barh(i, road_counts[i]*1.5*np.pi/max_value_full_ring, color=ring_colours[i])\n",
    "    ax_polar.grid(False)\n",
    "    ax_polar.tick_params(axis='both', left=False, bottom=False, labelbottom=False, labelleft=True)\n",
    "    plt.title('Road Surface Conditions', fontsize=14, fontweight='bold', pad=20, color='white')\n",
    "    plt.show()"
   ]
  },
  {
   "cell_type": "markdown",
   "metadata": {},
   "source": [
    "In this figure, right next to each radial bar is the road surface condition with the number of accidents that occured during that condition in the parentheses. It is evident that the majority of times an accident happened, the road surface condition was dry which is counter intuitive since dry road condition is actually desirable for safe driving. This means accidents most accidents occured not due to any poor road surface condition."
   ]
  },
  {
   "cell_type": "markdown",
   "metadata": {},
   "source": [
    "-----------------"
   ]
  }
 ],
 "metadata": {
  "kernelspec": {
   "display_name": "jr_env1",
   "language": "python",
   "name": "python3"
  },
  "language_info": {
   "codemirror_mode": {
    "name": "ipython",
    "version": 3
   },
   "file_extension": ".py",
   "mimetype": "text/x-python",
   "name": "python",
   "nbconvert_exporter": "python",
   "pygments_lexer": "ipython3",
   "version": "3.11.2"
  },
  "orig_nbformat": 4
 },
 "nbformat": 4,
 "nbformat_minor": 2
}
